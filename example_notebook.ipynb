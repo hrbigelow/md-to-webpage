{
  "nbformat": 4,
  "nbformat_minor": 0,
  "metadata": {
    "colab": {
      "provenance": []
    },
    "kernelspec": {
      "name": "python3",
      "display_name": "Python 3"
    },
    "language_info": {
      "name": "python"
    }
  },
  "cells": [
    {
      "cell_type": "markdown",
      "source": [
        "# Example Webpage\n",
        "\n",
        "All of the Markdown understood by marked.js can be used here, including for example *italics* and **bold**, and literal HTML.  In particular, to include links or images in your webpage, simply type the HTML like:\n",
        "\n",
        "<img src=\"./img/my_image.jpg\">My Image</img>\n",
        "\n",
        "To make this work, create a directory `md-to-webpage/www/img` and place your image in there.\n",
        "\n",
        "## Inline Code, inline and block math\n",
        "\n",
        "Here is some example content with `inline code`, which is rendered as a `<code>` HTML element.  You can also use inline equations like $x_i = y_j$, which will be converted during the build process with Katex.  Block equations are also available with:\n",
        "\n",
        "\\begin{aligned}\n",
        "x & = y & \\mbox{This is a note explaining that $x$ is the same as $y$} \\\\\n",
        "Z & = \\sum_i{z_i} \\\\\n",
        "\\end{aligned}\n",
        "\n",
        "## Code Samples\n",
        "\n",
        "Here is a python code sample:\n",
        "\n",
        "```python\n",
        "def my_function(arg1):\n",
        "    pass\n",
        "```\n",
        "\n",
        "Here is a bash code sample:\n",
        "\n",
        "```bash\n",
        "echo 'hello'\n",
        "```\n",
        "\n",
        "To enable more languages to be converted, edit `main.js`.\n",
        "\n",
        "Also, indented blocks are formatted:\n",
        "\n",
        "    Here is an indented block\n",
        "\n",
        "\n"
      ],
      "metadata": {
        "id": "tmVyJPG3TnrL"
      }
    }
  ]
}